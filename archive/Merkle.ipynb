{
 "cells": [
  {
   "cell_type": "code",
   "execution_count": 435,
   "id": "cf863ee6",
   "metadata": {},
   "outputs": [],
   "source": [
    "from hashlib import sha256\n",
    "import struct\n",
    "from base58\n",
    "import random\n",
    "from collections import deque\n",
    "from functools import lru_cache\n",
    "\n",
    "b58e = lambda x: base58.b58encode(x).decode('ascii')\n",
    "\n",
    "EMPTY = b'\\x00' * 32\n",
    "\n",
    "@lru_cache(maxsize=32)\n",
    "def empty(level):\n",
    "    if level == 0:\n",
    "        return EMPTY\n",
    "    value = empty(level - 1)\n",
    "    return h(value, value)\n",
    "\n",
    "def h(*args):\n",
    "    sha = sha256()\n",
    "    for a in args:\n",
    "        sha.update(a)\n",
    "    return sha.digest()\n",
    "\n",
    "class MerkleTree:\n",
    "    def __init__(self, leaves, root=None):\n",
    "        assert(len(set(leaves)) == len(leaves))\n",
    "        self.free_list = deque()\n",
    "        self.leaf_nodes = [TreeNode(h(x)) for x in leaves]\n",
    "        self.leaf_dict = dict(zip(list(map(h, leaves)), self.leaf_nodes))\n",
    "        self.root = self.build_root()\n",
    "        \n",
    "    def build_root(self):\n",
    "        tree = deque(zip(self.leaf_nodes, [0] * len(self.leaf_nodes)))\n",
    "        while len(tree) > 1:\n",
    "            left, i = tree.popleft()\n",
    "            if tree[0][1] != i:\n",
    "                right = TreeNode(empty(i))\n",
    "            else:\n",
    "                right, _ = tree.popleft()\n",
    "            parent = TreeNode(h(left.key, right.key), left, right)\n",
    "            tree.append((parent, i + 1))\n",
    "        return tree[0][0]\n",
    "    \n",
    "    def get_root(self):\n",
    "        return b58e(self.root.key)\n",
    "    \n",
    "    def get_proof(self, leaf):\n",
    "        if not isinstance(leaf, TreeNode):\n",
    "            node = self.leaf_dict[leaf]\n",
    "        else:\n",
    "            assert(leaf.left == None)\n",
    "            assert(leaf.right == None)\n",
    "            node = leaf\n",
    "        proof = []\n",
    "        while node.parent is not None:\n",
    "            key = node.key\n",
    "            node = node.parent\n",
    "            if node.left.key == key:\n",
    "                proof.append((node.right.key, 1))\n",
    "            else:\n",
    "                proof.append((node.left.key, 0))\n",
    "        return list(zip(*proof))\n",
    "    \n",
    "    def verify_proof(self, proof, path, leaf):\n",
    "        key = leaf \n",
    "        for node, side in zip(proof, path):\n",
    "            if side == 0:\n",
    "                key = h(node, key)\n",
    "            else:\n",
    "                key = h(key, node)\n",
    "        return key == self.root.key \n",
    "    \n",
    "    def append_empty_leaf(self):\n",
    "        node = self.leaf_nodes[-1]\n",
    "        n = len(self.leaf_nodes)\n",
    "        i = 0\n",
    "        new_leaf = TreeNode(EMPTY)\n",
    "        ptr = new_leaf \n",
    "        while n % 2 == 0 and node.parent is not None:\n",
    "            i += 1\n",
    "            n //= 2\n",
    "            ptr = TreeNode(empty(i), ptr, TreeNode(empty(i-1)))  \n",
    "            node = node.parent \n",
    "        key = h(node.key, ptr.key)\n",
    "        if node.parent is None:\n",
    "            parent = TreeNode(key, node, ptr)\n",
    "        else:\n",
    "            node.parent.key = key\n",
    "            assert(node.parent.right.key == ptr.key)\n",
    "            node.parent.right = ptr\n",
    "            ptr.parent = node.parent \n",
    "        node = node.parent\n",
    "        while node.parent is not None:\n",
    "            key = node.key\n",
    "            node = node.parent\n",
    "            if node.left.key == key:\n",
    "                node.key = h(key, node.right.key)\n",
    "            else:\n",
    "                node.key = h(node.left.key, key)\n",
    "        self.root = node\n",
    "        self.free_list.append(len(self.leaf_nodes))\n",
    "        self.leaf_nodes.append(new_leaf)\n",
    "    \n",
    "    def add_leaf(self, leaf):\n",
    "        if len(self.free_list) == 0:\n",
    "            self.append_empty_leaf()\n",
    "        leaf_node = self.leaf_nodes[self.free_list.popleft()]\n",
    "        node = leaf_node \n",
    "        leaf_key = h(leaf)\n",
    "        assert(leaf_key not in self.leaf_dict)\n",
    "        node.key = leaf_key \n",
    "        while node.parent is not None:\n",
    "            key = node.key \n",
    "            node = node.parent\n",
    "            if node.left.key == key:\n",
    "                node.key = h(key, node.right.key)\n",
    "            else:\n",
    "                node.key = h(node.left.key, key)\n",
    "        self.leaf_dict[leaf_key] = leaf_node\n",
    "            \n",
    "    def remove_leaf(self, i):\n",
    "        node = self.leaf_nodes[i] \n",
    "        key = node.key\n",
    "        if key == EMPTY:\n",
    "            return None\n",
    "        node.key = EMPTY \n",
    "        while node.parent is not None:\n",
    "            node = node.parent\n",
    "            if node.left.key == key:\n",
    "                node.key = h(key, node.right.key)\n",
    "            else:\n",
    "                node.key = h(node.left.key, key)\n",
    "        self.free_list.appendleft(i)\n",
    "        del self.leaf_dict[key]\n",
    "        return key\n",
    "    \n",
    "    def remove_leaf_by_key(self, key):\n",
    "        if key != EMPTY:\n",
    "            indices = [j for (j, node) in enumerate(self.leaf_nodes) if node.key == key]\n",
    "            if indices:\n",
    "                return self.remove_leaf(indices[0])\n",
    "        return None\n",
    "\n",
    "    \n",
    "class TreeNode:\n",
    "    def __init__(self, key, left=None, right=None):\n",
    "        self.key = key\n",
    "        self.left = left\n",
    "        self.right = right\n",
    "        self.parent = None\n",
    "        if left:\n",
    "            left.parent = self\n",
    "        if right:\n",
    "            right.parent = self\n",
    "\n",
    "leaves = [struct.pack(\"<Q\", random.randint(0, (1<<64) - 1)) for _ in range((2**18) - 1)]"
   ]
  },
  {
   "cell_type": "code",
   "execution_count": 457,
   "id": "c668dca4",
   "metadata": {},
   "outputs": [
    {
     "name": "stdout",
     "output_type": "stream",
     "text": [
      "CPU times: user 3.74 s, sys: 66.9 ms, total: 3.81 s\n",
      "Wall time: 3.81 s\n"
     ]
    },
    {
     "data": {
      "text/plain": [
       "'6j1fXA84313XStq3xfgDs1zTKMpjgRuscjEUGdVMrTta'"
      ]
     },
     "execution_count": 457,
     "metadata": {},
     "output_type": "execute_result"
    }
   ],
   "source": [
    "%%time\n",
    "mt = MerkleTree(leaves)\n",
    "mt.get_root()"
   ]
  },
  {
   "cell_type": "code",
   "execution_count": 456,
   "id": "0b6b3f55",
   "metadata": {},
   "outputs": [
    {
     "name": "stdout",
     "output_type": "stream",
     "text": [
      "CHdBFhHQsGsFYU6dGsX7EmXZs85CfcQDRAUGGzcKtECt\n",
      "CHdBFhHQsGsFYU6dGsX7EmXZs85CfcQDRAUGGzcKtECt\n"
     ]
    }
   ],
   "source": [
    "mt.append_empty_leaf()\n",
    "print(mt.get_root())\n",
    "mt.append_empty_leaf()\n",
    "print(mt.get_root())"
   ]
  },
  {
   "cell_type": "code",
   "execution_count": 438,
   "id": "2027304e",
   "metadata": {},
   "outputs": [
    {
     "name": "stdout",
     "output_type": "stream",
     "text": [
      "CPU times: user 524 µs, sys: 1 µs, total: 525 µs\n",
      "Wall time: 530 µs\n"
     ]
    },
    {
     "data": {
      "text/plain": [
       "['FaZUEm6qLPmzw9Gp7HNKYspxf6KhYuVcEUZbpWfwqLSk',\n",
       " '5FxCmTuWYFiF6e5VP9ReTUi94AsARvGeBczgRfBnraMc',\n",
       " 'Ck3BQaUiYfsHKachsBBWZonZ22MHfRogNuwsEtrfMQko',\n",
       " '4rv7zCF4a8LP2KnYw7KjczirsX96o7D5hGhSbxxrva9q',\n",
       " 'adQsRY5jS1YYwi93nJ1y4PmNtF6QRCjK9KUTvPTLiCV',\n",
       " '2wo2XtonXtPd9KGczVt2s1rd2M4396utwvZykvzTzoDj',\n",
       " 'G8YZoqLYLBCaHXt25GyhsDJdvVCRTbM7nh5NNBVTDKGY',\n",
       " 'H5pdpAhA97xT1S2om8Dzb2ykUit6CyPCohkveEREqgU3',\n",
       " '9TSGfopeiJN8N1eTQB6usnCmQwxfhKqKhjYULsQjf3oa',\n",
       " '6SCq3pkwUjERxfxowDVsW4x4PAV4SWWSrL95HanTXioH',\n",
       " 'Se56hpW5HVxewj38LiNhPtzxMXHJsv65HGbnkbrHt5p',\n",
       " '9bcYWzBzEdZX7Z3LyaEL8KXPYQf5VA8aZCDVbugxjxZB',\n",
       " 'DtG4Hg1trYKdVrMsxS6vTSZx7LyRs4Kep64Fet827Ruk',\n",
       " '2oRVJyg9VEspWcrmFaRZMKv4qeytFmt7PkmdruhRGXKQ',\n",
       " '4uurwJcW6aGuNj3BQ6ePypMDX2VVJTS1pLARsnEY5bfU',\n",
       " '5nGk5ocVBJFeqeXMWa63JCLxe29pbAo1yWXHXvbQx2Yf',\n",
       " '4zcrFUyN97VT8dMzVWCpzgAY4H3aTvvq3p7DCdd2WZoA',\n",
       " 'DrxWpLfTxD2Gt4KirsvWWMT5w6Nj1S4PXpLRpvuCr9nT',\n",
       " 'B6GvsF6KYiXQq8Nfwa6wwRrT8eWoNpdtF42mPSzZ2x4s']"
      ]
     },
     "execution_count": 438,
     "metadata": {},
     "output_type": "execute_result"
    }
   ],
   "source": [
    "%%time\n",
    "target = hash_value(random.choice(leaves))\n",
    "proof, path = mt.get_proof(target)\n",
    "list(map(b58e, proof))"
   ]
  },
  {
   "cell_type": "code",
   "execution_count": 439,
   "id": "43def713",
   "metadata": {},
   "outputs": [
    {
     "name": "stdout",
     "output_type": "stream",
     "text": [
      "CPU times: user 49 µs, sys: 0 ns, total: 49 µs\n",
      "Wall time: 53.2 µs\n"
     ]
    },
    {
     "data": {
      "text/plain": [
       "True"
      ]
     },
     "execution_count": 439,
     "metadata": {},
     "output_type": "execute_result"
    }
   ],
   "source": [
    "%%time\n",
    "\n",
    "mt.verify_proof(proof, path, target)"
   ]
  },
  {
   "cell_type": "code",
   "execution_count": 455,
   "id": "8fd5ba49",
   "metadata": {},
   "outputs": [],
   "source": [
    "if mt.free_list:\n",
    "    head = mt.free_list[0]\n",
    "    print(head)\n",
    "else:\n",
    "    head = len(mt.leaf_nodes)\n",
    "new_leaf = struct.pack(\"<Q\", random.randint(0, (1<<64) - 1))\n",
    "mt.add_leaf(new_leaf)\n",
    "\n",
    "assert(mt.leaf_nodes[head].key == h(new_leaf))"
   ]
  },
  {
   "cell_type": "code",
   "execution_count": 441,
   "id": "83fc721e",
   "metadata": {},
   "outputs": [
    {
     "data": {
      "text/plain": [
       "False"
      ]
     },
     "execution_count": 441,
     "metadata": {},
     "output_type": "execute_result"
    }
   ],
   "source": [
    "mt.leaf_nodes[-1].key == h(new_leaf)"
   ]
  },
  {
   "cell_type": "code",
   "execution_count": 444,
   "id": "cf0d22a5",
   "metadata": {},
   "outputs": [
    {
     "data": {
      "text/plain": [
       "[b',\\x1c\\xb4\\x1ca\\xba\\xb6\\x1a:0\\xf2\\xb7\\xce\\xf6\\xf0\\xe0b\\xa8W\\xbd \\x84-\\x99\\x08\\xabF\\xec\\x1c\\xd2#\\x1f',\n",
       " b'\\xaa\\xb7\\x1f.\\x00a\\xce2\\xbf\\xd0\\x1c&\\xe8\\x17\\xc9\\x01\\xdb\\xe3\\x01\\x9f\\xf0\\x06\\x8e\\xb6t\\xd8\\xb7]J\\x00\\xac ',\n",
       " b'D\\xf7%q.\\xa5_\\xc0h\\xeaEY\\xb9\\\\\\x94\\x1c\\x89\\xa9ek}\\xa3\\xd6\\xac\\x90?P\\x9bl\\x87\\x91o',\n",
       " b'\\xbe\\xdbe\\x97z\\xce\\r\\\\\\xac[q\\xff\\x0ch2:1\\\\\\x8bt6\\x07j\\x84\\n\\x8d7\\x82\\x944x3',\n",
       " b'\\x00\\x00\\x00\\x00\\x00\\x00\\x00\\x00\\x00\\x00\\x00\\x00\\x00\\x00\\x00\\x00\\x00\\x00\\x00\\x00\\x00\\x00\\x00\\x00\\x00\\x00\\x00\\x00\\x00\\x00\\x00\\x00']"
      ]
     },
     "execution_count": 444,
     "metadata": {},
     "output_type": "execute_result"
    }
   ],
   "source": [
    "list(map(lambda x: x.key, mt.leaf_nodes[-5:]))"
   ]
  },
  {
   "cell_type": "code",
   "execution_count": 445,
   "id": "dce5580f",
   "metadata": {},
   "outputs": [
    {
     "data": {
      "text/plain": [
       "[(b'D\\xf7%q.\\xa5_\\xc0h\\xeaEY\\xb9\\\\\\x94\\x1c\\x89\\xa9ek}\\xa3\\xd6\\xac\\x90?P\\x9bl\\x87\\x91o',\n",
       "  b'\\x1d&Yk\\xe4\\x11KeX\\x9b6\\xd1Z\\xc4\\x85\\x0c\\x8f]\\xc2\\xcf+\\xa2YD\\x11(\\x88\\x8c\\xfab\\x12\\x96',\n",
       "  b'\\xf4\\xe9\\xadE\\x18y\\x91)7\\x95!\\x17\\xe4qK@\\x8d\\x14\\xef\\xee\\x18\\xf9\\xd5\\x8d\\x95\\xc8\\xd4\\xee\\xff\\x7f\\xc7\\xf0',\n",
       "  b'k\\xd0\\xb4\\xeb\\xf5\\xa9#\\x0b\\x13ZAJHb \\xb2\\x05!\\x88\\xa3K\\xc6\\x9a:Hx>\\xc0G\\xcf\\xab\\x88',\n",
       "  b'\\xa6\\x1a\\xd2\\x96z\\xf3%\\x10\\xb1x\\xf3\\xe9A!\\x85q\\x19D\\xc8\\xe44e\\xe3\\xae\\xaeEk\\xed\\xd3\\xefIe',\n",
       "  b'\\xf2$\\x03?T\\x0bnK\\xe5\\x9e!a\\x8d\\x94\\x02\\x04\\xc4M<\\xa1\\xcd.GD\\xec\\xc5\\x9a\\x0ba\\x89\\x14g',\n",
       "  b'\\x16\\x7f\\x9b\\xa2E\\x03Z\\x1d\\x81i\\xf9f\\xaa!\\xd0\\xaaK\\xd8\\xd92\\xca\\x9f\\r2\\xc5\\xd1\\xb8\\n{\\xf7\\xadQ',\n",
       "  b'f\\\\\\x03\\xbfw8\\xbb\\xce!m\\xc0\"v#\\x1e\\xef\\xa2\\x13\\xd2l\\x1dC\\x82\\xcei\\xaa\\xa0\\x95\\xc3\\xe2+\\xb1',\n",
       "  b'\\x10\\x81n\\x98OG\\xd7\\xe8S\\x9e_g;\\x19\\xb8\\xef\\xab\\xf8\\x00i\\xfbvyJwh\\x1fr^5;\\xd5',\n",
       "  b'\\x0bE\\xe1,\\xbaq0\\xf6\\x04\"\\xebe\\x95\\x0bk\\xe5\\x9d\\x84\\x1c|\\xf7^\\x00\\xd8w\\x84\\xaaL\\xba\\xb0\\xef\\x1d',\n",
       "  b\"\\xab!\\xac\\xba\\x13\\xb4[-\\tO8\\x00\\xf3\\x1b\\xd7\\xc0\\x9eZG\\xf9\\x83\\xb0\\xb8\\xe1=U\\xe9\\x8f'\\xa1,o\",\n",
       "  b'\\x1aQ5\\xf3\\xf3\\xd4\\x93\\xe5\\x93\\xc4\\x91+\\x12I\\xd0\\xc4(\\xd5\\xd2(\\x0c\\xb0\\x9f\\xd7\\xf8\\xf7k\\x93\\xd2-\\xe4\\xd1',\n",
       "  b\"\\xe5\\xa5\\x8f\\xb6\\xbcb\\xca\\x95\\xa3|\\xca.\\xbd'\\x8c\\x10e'y\\xe3mR\\x9a(\\xda=\\x90*n\\xfc\\xa2+\",\n",
       "  b'~8V=(\\xc8m\\xda\\x91Y\\x1c\\xfd\\x06Ofnm\\nQl\\xe0\\xba\\x83\\xba\\xbb\\x05\\xfcj\\x8a\\xb5\\t\\xd5',\n",
       "  b'\\\\\\xcab\\xcf\\xb9HJn\\x07\\xc5)\\xec\\x1e\\xf9{T\\x1f;H\\x1f\\x86\\xf4\\xcb\\xa8\\x802\\te\\x1b5\\x970',\n",
       "  b'\\x17\\xf7\\xaf7\\xb2\\xdfa\\x06\\x1b8\\xa1j\\x8a?R\\xb0,W\\x9a\\xf3(\\xe9\\xe1\\xff\\x9e\\xcf\\x97\\x06#\\xc3y\\xd2',\n",
       "  b';U\\xb3\\x9e\\xab\\x82V\\xa8\\xb4\\x1b\\xd0\\x7fi\\xaa\\xbc\\xd0!=VI\\xe1\\xcaFz\\xf2\\xd5*\\xd5\\x17\\xbf%\\x8d',\n",
       "  b'\\xbf\\x18y\\x04W\\x8a\\t\\x10u\\xeeaPRd\\xbc\\x83Y\\x99\\x07Z\\xb9\\\\\\xbf\\x0b\\x01\\x01\\xe5\\xa4:\\x00T\\x04',\n",
       "  b'\\x95\\xee\\xc8\\xb2\\xe5A\\xca\\xd4\\xe9\\x1d\\xe3\\x83\\x85\\xf2\\xe0Fa\\x9fTIl#\\x82\\xcbl\\xac\\xd5\\xb9\\x8c&\\xf5\\xa4'),\n",
       " (0, 0, 0, 0, 0, 0, 0, 0, 0, 0, 0, 0, 0, 0, 0, 0, 0, 0, 1)]"
      ]
     },
     "execution_count": 445,
     "metadata": {},
     "output_type": "execute_result"
    }
   ],
   "source": [
    "mt.get_proof(mt.leaf_nodes[-2])"
   ]
  },
  {
   "cell_type": "code",
   "execution_count": 446,
   "id": "0abe45f7",
   "metadata": {},
   "outputs": [
    {
     "data": {
      "text/plain": [
       "[(b'\\x00\\x00\\x00\\x00\\x00\\x00\\x00\\x00\\x00\\x00\\x00\\x00\\x00\\x00\\x00\\x00\\x00\\x00\\x00\\x00\\x00\\x00\\x00\\x00\\x00\\x00\\x00\\x00\\x00\\x00\\x00\\x00',\n",
       "  b\"\\xf5\\xa5\\xfdB\\xd1j 0'\\x98\\xefn\\xd3\\t\\x97\\x9bC\\x00=# \\xd9\\xf0\\xe8\\xea\\x981\\xa9'Y\\xfbK\",\n",
       "  b'\\xdbV\\x11N\\x00\\xfd\\xd4\\xc1\\xf8\\\\\\x89+\\xf3Z\\xc9\\xa8\\x92\\x89\\xaa\\xec\\xb1\\xeb\\xd0\\xa9l\\xde`jt\\x8b]q',\n",
       "  b'\\xc7\\x80\\t\\xfd\\xf0\\x7f\\xc5j\\x11\\xf1\"7\\x06X\\xa3S\\xaa\\xa5B\\xedc\\xe4LK\\xc1_\\xf4\\xcd\\x10Z\\xb3<',\n",
       "  b'Sm\\x98\\x83\\x7f-\\xd1e\\xa5]^\\xea\\xe9\\x14\\x85\\x95Dr\\xd5o$m\\xf2V\\xbf<\\xae\\x195*\\x12<',\n",
       "  b'\\x9e\\xfd\\xe0R\\xaa\\x15B\\x9f\\xae\\x05\\xba\\xd4\\xd0\\xb1\\xd7\\xc6M\\xa6M\\x03\\xd7\\xa1\\x85JX\\x8c,\\xb8C\\x0c\\r0',\n",
       "  b'\\xd8\\x8d\\xdf\\xee\\xd4\\x00\\xa8uU\\x96\\xb2\\x19B\\xc1I~\\x11L0.a\\x18)\\x0f\\x91\\xe6w)v\\x04\\x1f\\xa1',\n",
       "  b'\\x87\\xeb\\r\\xdb\\xa5~5\\xf6\\xd2\\x86g8\\x02\\xa4\\xafYu\\xe2%\\x06\\xc7\\xcfLd\\xbbk\\xe5\\xee\\x11R\\x7f,',\n",
       "  b'&\\x84dv\\xfd_\\xc5J]C8Qg\\xc9QD\\xf2d?S<\\xc8[\\xb9\\xd1kx/\\x8d}\\xb1\\x93',\n",
       "  b'Pm\\x86X-%$\\x05\\xb8@\\x01\\x87\\x92\\xca\\xd2\\xbf\\x12Y\\xf1\\xefZ\\xa5\\xf8\\x87\\xe1<\\xb2\\xf0\\tOQ\\xe1',\n",
       "  b'\\xff\\xff\\n\\xd7\\xe6Yw/\\x954\\xc1\\x95\\xc8\\x15\\xef\\xc4\\x01N\\xf1\\xe1\\xda\\xedD\\x04\\xc0c\\x85\\xd1\\x11\\x92\\xe9+',\n",
       "  b\"l\\xf0A'\\xdb\\x05D\\x1c\\xd83\\x10zR\\xbe\\x85(h\\x89\\x0eC\\x17\\xe6\\xa0*\\xb4v\\x83\\xaau\\x96B \",\n",
       "  b\"\\xb7\\xd0_\\x87_\\x14\\x00'\\xefQ\\x18\\xa2${\\xbb\\x84\\xce\\x8f/\\x0f\\x11#b0\\x85\\xda\\xf7\\x96\\x0c2\\x9f_\",\n",
       "  b'\\xdfj\\xf5\\xf5\\xbb\\xdbk\\xe9\\xef\\x8a\\xa6\\x18\\xe4\\xbf\\x80s\\x96\\x08g\\x17\\x1e)go\\x8b(M\\xeaj\\x08\\xa8^',\n",
       "  b'\\xb5\\x8d\\x90\\x0f^\\x18.<P\\xeft\\x96\\x9e\\xa1lw&\\xc5Iu|\\xc25#\\xc3iX}\\xa7)7\\x84',\n",
       "  b'\\xd4\\x9au\\x02\\xff\\xcf\\xb04\\x0b\\x1dx\\x85h\\x85\\x00\\xca0\\x81a\\xa7\\xf9kb\\xdf\\x9d\\x08;q\\xfc\\xc8\\xf2\\xbb',\n",
       "  b\"\\x8f\\xe6\\xb1h\\x92V\\xc0\\xd3\\x85\\xf4/[\\xbe '\\xa2,\\x19\\x96\\xe1\\x10\\xba\\x97\\xc1q\\xd3\\xe5\\x94\\x8d\\xe9+\\xeb\",\n",
       "  b'\\x8d\\rc\\xc3\\x9e\\xba\\xde\\x85\\t\\xe0\\xae<\\x9c8v\\xfb_\\xa1\\x12\\xbe\\x18\\xf9\\x05\\xec\\xac\\xfe\\xcb\\x92\\x05v\\x03\\xab',\n",
       "  b\"\\xf6\\x9dw\\xe3R\\xab\\xd1\\xfe\\xe1J\\x10\\xa98\\xff\\xc2\\x16\\xdc\\xd6e\\x1a\\xd4\\xa7NG\\x92\\xfd2\\xc0\\x94'\\xe0\\x95\"),\n",
       " (1, 1, 1, 1, 1, 1, 1, 1, 1, 1, 1, 1, 1, 1, 1, 1, 1, 1, 0)]"
      ]
     },
     "execution_count": 446,
     "metadata": {},
     "output_type": "execute_result"
    }
   ],
   "source": [
    "mt.get_proof(mt.leaf_nodes[-1])"
   ]
  }
 ],
 "metadata": {
  "kernelspec": {
   "display_name": "Python 3 (ipykernel)",
   "language": "python",
   "name": "python3"
  },
  "language_info": {
   "codemirror_mode": {
    "name": "ipython",
    "version": 3
   },
   "file_extension": ".py",
   "mimetype": "text/x-python",
   "name": "python",
   "nbconvert_exporter": "python",
   "pygments_lexer": "ipython3",
   "version": "3.9.5"
  }
 },
 "nbformat": 4,
 "nbformat_minor": 5
}
