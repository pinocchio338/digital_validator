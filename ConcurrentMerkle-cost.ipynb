{
 "cells": [
  {
   "cell_type": "code",
   "execution_count": 1,
   "metadata": {},
   "outputs": [
    {
     "name": "stdout",
     "output_type": "stream",
     "text": [
      "/Users/noahgundotra/opt/anaconda3/bin/python\n"
     ]
    }
   ],
   "source": [
    "!which python"
   ]
  },
  {
   "cell_type": "code",
   "execution_count": 7,
   "metadata": {},
   "outputs": [],
   "source": [
    "import math\n",
    "import solana.rpc.api as web3\n",
    "import numpy as np"
   ]
  },
  {
   "cell_type": "markdown",
   "metadata": {},
   "source": [
    "roots: 32 * MAX_SIZE\n",
    "\n",
    "change_logs: ((32 * MAX_DEPTH) + 4) * MAX_SIZE\n",
    "\n",
    "active_index: 8\n",
    "\n",
    "buffer_size: 8"
   ]
  },
  {
   "cell_type": "code",
   "execution_count": 21,
   "metadata": {},
   "outputs": [],
   "source": [
    "def get_client(nickname=\"mainnet-beta\"):\n",
    "    return web3.Client(f\"https://api.{nickname}.solana.com\")\n",
    "    \n",
    "def get_size(max_depth=20, max_size=64):\n",
    "    return 32 * max_size + ((32 * max_depth) + 4) * max_size + 8 + 8 \n",
    "\n",
    "def get_min_balance(client, size):\n",
    "    \"\"\"Returns in SOL\"\"\"\n",
    "    return client.get_minimum_balance_for_rent_exemption(size)['result'] / 1e9"
   ]
  },
  {
   "cell_type": "code",
   "execution_count": 24,
   "metadata": {},
   "outputs": [],
   "source": [
    "client = get_client()\n",
    "depths = np.arange(10, 20)\n",
    "rents = np.array([get_min_balance(client, int(get_size(depth))) for depth in depths])"
   ]
  },
  {
   "cell_type": "code",
   "execution_count": 22,
   "metadata": {},
   "outputs": [],
   "source": [
    "import matplotlib.pyplot as plt"
   ]
  },
  {
   "cell_type": "code",
   "execution_count": 23,
   "metadata": {},
   "outputs": [
    {
     "data": {
      "text/plain": [
       "[<matplotlib.lines.Line2D at 0x7fab6035f370>]"
      ]
     },
     "execution_count": 23,
     "metadata": {},
     "output_type": "execute_result"
    },
    {
     "data": {
      "image/png": "[encoded data removed]",
      "text/plain": [
       "<Figure size 432x288 with 1 Axes>"
      ]
     },
     "metadata": {
      "needs_background": "light"
     },
     "output_type": "display_data"
    }
   ],
   "source": [
    "plt.plot(depths, rents)"
   ]
  },
  {
   "cell_type": "code",
   "execution_count": 32,
   "metadata": {},
   "outputs": [],
   "source": [
    "num_leaves = np.arange(1e6)"
   ]
  },
  {
   "cell_type": "code",
   "execution_count": 31,
   "metadata": {},
   "outputs": [
    {
     "name": "stderr",
     "output_type": "stream",
     "text": [
      "/var/folders/5k/f5mb8ncx4hjbc9rw72q9zgs80000gn/T/ipykernel_67208/1251670123.py:1: RuntimeWarning: divide by zero encountered in log2\n",
      "  leaves = np.ceil(np.log2(leaves))\n"
     ]
    }
   ],
   "source": [
    "leaves = np.ceil(np.log2(leaves))"
   ]
  },
  {
   "cell_type": "code",
   "execution_count": 33,
   "metadata": {},
   "outputs": [
    {
     "data": {
      "text/plain": [
       "[<matplotlib.lines.Line2D at 0x7fab9298c280>]"
      ]
     },
     "execution_count": 33,
     "metadata": {},
     "output_type": "execute_result"
    },
    {
     "data": {
      "image/png": "[encoded data removed]",
      "text/plain": [
       "<Figure size 432x288 with 1 Axes>"
      ]
     },
     "metadata": {
      "needs_background": "light"
     },
     "output_type": "display_data"
    }
   ],
   "source": [
    "plt.plot(num_leaves,leaves)"
   ]
  },
  {
   "cell_type": "code",
   "execution_count": 34,
   "metadata": {},
   "outputs": [],
   "source": [
    "depths = np.unique(leaves)"
   ]
  },
  {
   "cell_type": "code",
   "execution_count": 36,
   "metadata": {},
   "outputs": [
    {
     "data": {
      "text/plain": [
       "array([ 1.,  2.,  3.,  4.,  5.,  6.,  7.,  8.,  9., 10., 11., 12., 13.,\n",
       "       14., 15., 16., 17., 18., 19., 20.])"
      ]
     },
     "execution_count": 36,
     "metadata": {},
     "output_type": "execute_result"
    }
   ],
   "source": [
    "depths[depths > 0]"
   ]
  },
  {
   "cell_type": "code",
   "execution_count": 60,
   "metadata": {},
   "outputs": [],
   "source": [
    "def cost_per_nft(client, num_leaves):\n",
    "    depths = np.ceil(np.log2(num_leaves))\n",
    "    uniq_depths = np.unique(depths[depths > 0])\n",
    "\n",
    "    print(\"Uniq depths:\\t\", uniq_depths)\n",
    "    cost_per_depth = np.array([get_min_balance(client, int(get_size(depth))) for depth in uniq_depths])\n",
    "    print(\"Cost per depth:\\t\", cost_per_depth)\n",
    "\n",
    "    depth_cost = dict(zip(uniq_depths, cost_per_depth))\n",
    "    depth_to_cost = np.vectorize(lambda x: depth_cost[x])\n",
    "\n",
    "    cost_for_leaves = depth_to_cost(depths) / num_leaves\n",
    "\n",
    "    plt.plot(num_leaves, cost_for_leaves)"
   ]
  },
  {
   "cell_type": "code",
   "execution_count": 54,
   "metadata": {},
   "outputs": [
    {
     "data": {
      "text/plain": [
       "array([-1, -2, -3])"
      ]
     },
     "execution_count": 54,
     "metadata": {},
     "output_type": "execute_result"
    }
   ],
   "source": [
    "mapped = { 1: -1, 2: -2, 3: -3}\n",
    "f = np.vectorize(lambda x: mapped[x])\n",
    "f(np.array([1, 2, 3]))"
   ]
  },
  {
   "cell_type": "code",
   "execution_count": 62,
   "metadata": {},
   "outputs": [
    {
     "name": "stdout",
     "output_type": "stream",
     "text": [
      "Uniq depths:\t [17. 18. 19. 20.]\n",
      "Cost per depth:\t [0.25935744 0.27361152 0.2878656  0.30211968]\n"
     ]
    },
    {
     "data": {
      "image/png": "[encoded data removed]",
      "text/plain": [
       "<Figure size 432x288 with 1 Axes>"
      ]
     },
     "metadata": {
      "needs_background": "light"
     },
     "output_type": "display_data"
    }
   ],
   "source": [
    "\n",
    "plot_cost_per_nft(client, np.arange(1e5, 1e6))"
   ]
  },
  {
   "cell_type": "code",
   "execution_count": null,
   "metadata": {},
   "outputs": [],
   "source": [
    "\n",
    "export const mintData = {\n",
    "  keypair: Keypair.fromSecretKey(\n",
    "    Uint8Array.from([\n",
    "      97, 21, 76, 200, 56, 16, 78, 25, 59, 220, 117, 51, 38, 49, 39, 120, 233,\n",
    "      84, 140, 17, 127, 125, 155, 145, 90, 125, 125, 189, 208, 31, 187, 52, 29,\n",
    "      36, 15, 160, 229, 149, 182, 246, 242, 216, 89, 158, 112, 1, 158, 51, 2,\n",
    "      182, 99, 89, 98, 192, 25, 176, 229, 214, 207, 93, 58, 65, 146, 217,\n",
    "    ])\n",
    "  ),\n",
    "};\n",
    "\n",
    "export const adminData = {\n",
    "  keypair: Keypair.fromSecretKey(\n",
    "    Uint8Array.from([\n",
    "      241, 176, 77, 159, 26, 214, 0, 223, 75, 201, 105, 22, 211, 58, 201, 142,\n",
    "      249, 21, 200, 44, 120, 253, 15, 88, 138, 74, 111, 71, 20, 161, 164, 55,\n",
    "      139, 59, 28, 117, 31, 84, 68, 106, 231, 132, 221, 59, 140, 70, 149, 140,\n",
    "      155, 241, 161, 143, 160, 86, 215, 231, 246, 245, 191, 96, 10, 171, 192,\n",
    "      191,\n",
    "    ])\n",
    "  ),\n",
    "};\n"
   ]
  },
  {
   "cell_type": "code",
   "execution_count": 63,
   "metadata": {},
   "outputs": [],
   "source": [
    "\n",
    "secret_key = [\n",
    "    241, 176, 77, 159, 26, 214, 0, 223, 75, 201, 105, 22, 211, 58, 201, 142,\n",
    "    249, 21, 200, 44, 120, 253, 15, 88, 138, 74, 111, 71, 20, 161, 164, 55,\n",
    "    139, 59, 28, 117, 31, 84, 68, 106, 231, 132, 221, 59, 140, 70, 149, 140,\n",
    "    155, 241, 161, 143, 160, 86, 215, 231, 246, 245, 191, 96, 10, 171, 192,\n",
    "    191\n",
    "]"
   ]
  },
  {
   "cell_type": "code",
   "execution_count": 64,
   "metadata": {},
   "outputs": [],
   "source": [
    "import solana"
   ]
  },
  {
   "cell_type": "code",
   "execution_count": 65,
   "metadata": {},
   "outputs": [],
   "source": [
    "key = solana.keypair.Keypair(secret_key[:32])"
   ]
  },
  {
   "cell_type": "code",
   "execution_count": 66,
   "metadata": {},
   "outputs": [
    {
     "data": {
      "text/plain": [
       "ANVwzkFb15qTMoAa7MsVKLCnRM7UDubBPUgHQwtYZ4sp"
      ]
     },
     "execution_count": 66,
     "metadata": {},
     "output_type": "execute_result"
    }
   ],
   "source": [
    "key.public_key"
   ]
  },
  {
   "cell_type": "code",
   "execution_count": null,
   "metadata": {},
   "outputs": [],
   "source": []
  }
 ],
 "metadata": {
  "interpreter": {
   "hash": "31f2aee4e71d21fbe5cf8b01ff0e069b9275f58929596ceb00d14d90e3e16cd6"
  },
  "kernelspec": {
   "display_name": "Python 3.8.9 64-bit",
   "language": "python",
   "name": "python3"
  },
  "language_info": {
   "codemirror_mode": {
    "name": "ipython",
    "version": 3
   },
   "file_extension": ".py",
   "mimetype": "text/x-python",
   "name": "python",
   "nbconvert_exporter": "python",
   "pygments_lexer": "ipython3",
   "version": "3.9.7"
  },
  "orig_nbformat": 4
 },
 "nbformat": 4,
 "nbformat_minor": 2
}
